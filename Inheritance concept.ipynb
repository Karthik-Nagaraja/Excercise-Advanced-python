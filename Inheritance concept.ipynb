{
 "cells": [
  {
   "cell_type": "code",
   "execution_count": 1,
   "metadata": {
    "collapsed": true
   },
   "outputs": [],
   "source": [
    "class parent(object):\n",
    "    def __init__(self,value):\n",
    "        self.value=value\n",
    "    def spam(self):\n",
    "        print('parent.spam',self.value)\n",
    "    def grok(self):\n",
    "        print('parent.grok')\n",
    "        self.spam()"
   ]
  },
  {
   "cell_type": "code",
   "execution_count": 4,
   "metadata": {
    "collapsed": false
   },
   "outputs": [
    {
     "name": "stdout",
     "output_type": "stream",
     "text": [
      "('parent.spam', 42)\n",
      "parent.grok\n",
      "('parent.spam', 42)\n"
     ]
    }
   ],
   "source": [
    "p=parent(42)\n",
    "p.spam()\n",
    "p.grok()"
   ]
  },
  {
   "cell_type": "code",
   "execution_count": 5,
   "metadata": {
    "collapsed": true
   },
   "outputs": [],
   "source": [
    "class child1(parent):\n",
    "    def yow(self):\n",
    "        print('child1.yow')"
   ]
  },
  {
   "cell_type": "code",
   "execution_count": 7,
   "metadata": {
    "collapsed": false
   },
   "outputs": [
    {
     "name": "stdout",
     "output_type": "stream",
     "text": [
      "42\n",
      "('parent.spam', 42)\n",
      "parent.grok\n",
      "('parent.spam', 42)\n",
      "child1.yow\n"
     ]
    }
   ],
   "source": [
    "c=child1(42)\n",
    "print(c.value)\n",
    "c.spam()\n",
    "c.grok()\n",
    "c.yow()"
   ]
  },
  {
   "cell_type": "code",
   "execution_count": 8,
   "metadata": {
    "collapsed": true
   },
   "outputs": [],
   "source": [
    "class child2(parent):\n",
    "    def spam(self):\n",
    "        print('child2.spam',self.value)"
   ]
  },
  {
   "cell_type": "code",
   "execution_count": 10,
   "metadata": {
    "collapsed": false
   },
   "outputs": [
    {
     "name": "stdout",
     "output_type": "stream",
     "text": [
      "42\n",
      "('child2.spam', 42)\n",
      "parent.grok\n",
      "('child2.spam', 42)\n"
     ]
    }
   ],
   "source": [
    "c=child2(42)\n",
    "print(c.value)\n",
    "c.spam()\n",
    "c.grok()"
   ]
  },
  {
   "cell_type": "code",
   "execution_count": 17,
   "metadata": {
    "collapsed": true
   },
   "outputs": [],
   "source": [
    "class child3(parent):\n",
    "    def spam(self):\n",
    "        print('child3.spam')#adding new code\n",
    "        #super().spam() # call the parent function\n",
    "        super(child3,self).spam()"
   ]
  },
  {
   "cell_type": "code",
   "execution_count": 18,
   "metadata": {
    "collapsed": false
   },
   "outputs": [
    {
     "name": "stdout",
     "output_type": "stream",
     "text": [
      "42\n",
      "child3.spam\n",
      "('parent.spam', 42)\n",
      "parent.grok\n",
      "child3.spam\n",
      "('parent.spam', 42)\n"
     ]
    }
   ],
   "source": [
    "c=child3(42)\n",
    "print(c.value)\n",
    "c.spam()\n",
    "c.grok()"
   ]
  },
  {
   "cell_type": "code",
   "execution_count": 25,
   "metadata": {
    "collapsed": true
   },
   "outputs": [],
   "source": [
    "class child4(parent):\n",
    "    def __init__(self,value,extra):\n",
    "        self.extra=extra\n",
    "        super(child4,self).__init__(value)"
   ]
  },
  {
   "cell_type": "code",
   "execution_count": 27,
   "metadata": {
    "collapsed": false
   },
   "outputs": [
    {
     "name": "stdout",
     "output_type": "stream",
     "text": [
      "42\n",
      "13\n"
     ]
    }
   ],
   "source": [
    "c4=child4(42,13)\n",
    "print(c4.value)\n",
    "print(c4.extra)"
   ]
  },
  {
   "cell_type": "code",
   "execution_count": 32,
   "metadata": {
    "collapsed": false
   },
   "outputs": [],
   "source": [
    "class parent2(object):\n",
    "    def yow(self):\n",
    "        print('parent2.yow')"
   ]
  },
  {
   "cell_type": "code",
   "execution_count": 33,
   "metadata": {
    "collapsed": true
   },
   "outputs": [],
   "source": [
    "class child5(parent,parent2):\n",
    "    pass"
   ]
  },
  {
   "cell_type": "code",
   "execution_count": 34,
   "metadata": {
    "collapsed": false
   },
   "outputs": [
    {
     "name": "stdout",
     "output_type": "stream",
     "text": [
      "42\n",
      "('parent.spam', 42)\n",
      "None\n",
      "parent2.yow\n",
      "None\n"
     ]
    }
   ],
   "source": [
    "c5=child5(42)\n",
    "print(c5.value)\n",
    "print(c5.spam())\n",
    "print(c5.yow())"
   ]
  }
 ],
 "metadata": {
  "anaconda-cloud": {},
  "kernelspec": {
   "display_name": "Python [default]",
   "language": "python",
   "name": "python2"
  },
  "language_info": {
   "codemirror_mode": {
    "name": "ipython",
    "version": 2
   },
   "file_extension": ".py",
   "mimetype": "text/x-python",
   "name": "python",
   "nbconvert_exporter": "python",
   "pygments_lexer": "ipython2",
   "version": "2.7.12"
  }
 },
 "nbformat": 4,
 "nbformat_minor": 1
}
